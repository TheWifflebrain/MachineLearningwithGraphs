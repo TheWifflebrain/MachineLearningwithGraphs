{
  "cells": [
    {
      "cell_type": "code",
      "execution_count": 2,
      "metadata": {},
      "outputs": [],
      "source": [
        "import pandas as pd\n",
        "import networkx as nx"
      ]
    },
    {
      "cell_type": "code",
      "execution_count": 3,
      "metadata": {},
      "outputs": [
        {
          "name": "stdout",
          "output_type": "stream",
          "text": [
            "9498\n",
            "9498\n",
            "7126\n",
            "7126\n",
            "4648\n",
            "4648\n",
            "6549\n",
            "6549\n",
            "1912\n",
            "1912\n",
            "4385\n",
            "4385\n",
            "168114\n",
            "168114\n"
          ]
        }
      ],
      "source": [
        "df1 = pd.read_csv('../twitch/DE/musae_DE_edges.csv')\n",
        "df2 = pd.read_csv('../twitch/ENGB/musae_ENGB_edges.csv')\n",
        "df3 = pd.read_csv('../twitch/ES/musae_ES_edges.csv')\n",
        "df4 = pd.read_csv('../twitch/FR/musae_FR_edges.csv')\n",
        "df5 = pd.read_csv('../twitch/PTBR/musae_PTBR_edges.csv')\n",
        "df6 = pd.read_csv('../twitch/RU/musae_RU_edges.csv')\n",
        "df7 = pd.read_csv('../twitch_gamers/large_twitch_edges.csv')\n",
        "\n",
        "dfs = [df1, df2, df3, df4, df5, df6, df7]\n",
        "names = ['de', 'engb', 'es', 'fr', 'pbtr', 'ru', 'large']\n",
        "\n",
        "for count, df in enumerate(dfs):\n",
        "    if(count==6): break\n",
        "    nodes = []\n",
        "    edges = []\n",
        "    for x, y in zip(df['from'], df['to']):\n",
        "        nodes.append(x)\n",
        "        nodes.append(y)\n",
        "        temp_tup = (x, y)\n",
        "        edges.append(temp_tup)\n",
        "    nodes = list(set(nodes))\n",
        "    print(len(nodes))\n",
        "    print(len(nodes))\n",
        "\n",
        "    f = open(f\"{names[count]}.net\", \"w\")\n",
        "    f.write(f\"*Vertices {len(nodes)}\\n\")\n",
        "\n",
        "    for i in range(0,len(nodes)):\n",
        "        f.write(f' {i} \"v{i}\"\\n')\n",
        "\n",
        "    f.write(f\"*Arcs\\n\")\n",
        "\n",
        "    for i in edges:\n",
        "        f.write(f\" {i[0]} {i[1]} 1.000000000000000\\n\")\n",
        "\n",
        "    f.close()\n",
        "\n",
        "nodes = []\n",
        "edges = []\n",
        "for x, y in zip(df['numeric_id_1'], df['numeric_id_2']):\n",
        "    nodes.append(x)\n",
        "    nodes.append(y)\n",
        "    temp_tup = (x, y)\n",
        "    edges.append(temp_tup)\n",
        "nodes = list(set(nodes))\n",
        "print(len(nodes))\n",
        "print(len(nodes))\n",
        "\n",
        "f = open(f\"{names[6]}.net\", \"w\")\n",
        "f.write(f\"*Vertices {len(nodes)}\\n\")\n",
        "\n",
        "for i in range(0,len(nodes)):\n",
        "    f.write(f' {i} \"v{i}\"\\n')\n",
        "\n",
        "f.write(f\"*Arcs\\n\")\n",
        "\n",
        "for i in edges:\n",
        "    f.write(f\" {i[0]} {i[1]} 1.000000000000000\\n\")\n",
        "\n",
        "f.close()\n"
      ]
    },
    {
      "cell_type": "code",
      "execution_count": 4,
      "metadata": {},
      "outputs": [
        {
          "name": "stdout",
          "output_type": "stream",
          "text": [
            "50\n",
            "50\n"
          ]
        }
      ],
      "source": [
        "nodes = []\n",
        "edges = []\n",
        "for count, (x, y) in enumerate(zip(df1['from'], df1['to'])):\n",
        "    if(count == 50): break\n",
        "    nodes.append(x)\n",
        "    nodes.append(y)\n",
        "    temp_tup = (x, y)\n",
        "    edges.append(temp_tup)\n",
        "nodes = set(nodes)\n",
        "G1 = nx.Graph()\n",
        "G1.add_nodes_from(nodes)\n",
        "G1.add_edges_from(edges)\n",
        "print(len(nodes))\n",
        "print(len(edges))\n",
        "nx.write_gexf(G1, \"de50.gexf\")"
      ]
    },
    {
      "cell_type": "code",
      "execution_count": 85,
      "metadata": {},
      "outputs": [],
      "source": [
        "# small_edges = []\n",
        "# print(edges[1])\n",
        "# for i in edges:\n",
        "#     if i[0] < node_size and i[1] < node_size:\n",
        "#         small_edges.append(i)"
      ]
    },
    {
      "cell_type": "code",
      "execution_count": 41,
      "metadata": {},
      "outputs": [],
      "source": [
        "# #from # to\n",
        "\n",
        "# import csv\n",
        "# header = ['from', 'to']\n",
        "# with open('edges_3563.csv', 'w', encoding='UTF8', newline='') as f:\n",
        "#     writer = csv.writer(f)\n",
        "#     writer.writerow(header)\n",
        "#     #for i in range(0, node_size):\n",
        "#     writer.writerows(small_edges)"
      ]
    }
  ],
  "metadata": {
    "colab": {
      "collapsed_sections": [],
      "machine_shape": "hm",
      "provenance": []
    },
    "kernelspec": {
      "display_name": "Python 3.8.15 ('gtkmeans')",
      "language": "python",
      "name": "python3"
    },
    "language_info": {
      "codemirror_mode": {
        "name": "ipython",
        "version": 3
      },
      "file_extension": ".py",
      "mimetype": "text/x-python",
      "name": "python",
      "nbconvert_exporter": "python",
      "pygments_lexer": "ipython3",
      "version": "3.8.15"
    },
    "vscode": {
      "interpreter": {
        "hash": "cbd039bba4250ef54cf9b89bab6251b2ec8381e907a01f34614497b2dfe1883d"
      }
    }
  },
  "nbformat": 4,
  "nbformat_minor": 0
}
