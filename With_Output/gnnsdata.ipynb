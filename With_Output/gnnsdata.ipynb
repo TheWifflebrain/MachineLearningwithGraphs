{
  "cells": [
    {
      "cell_type": "code",
      "execution_count": 71,
      "metadata": {},
      "outputs": [],
      "source": [
        "import pandas as pd"
      ]
    },
    {
      "cell_type": "markdown",
      "metadata": {},
      "source": []
    },
    {
      "cell_type": "code",
      "execution_count": 84,
      "metadata": {},
      "outputs": [
        {
          "name": "stdout",
          "output_type": "stream",
          "text": [
            "4385\n",
            "4385\n"
          ]
        }
      ],
      "source": [
        "#df = pd.read_csv('../twitch/DE/musae_DE_edges.csv')\n",
        "#df = pd.read_csv('../twitch/ENGB/musae_ENGB_edges.csv')\n",
        "#df = pd.read_csv('../twitch/ES/musae_ES_edges.csv')\n",
        "#df = pd.read_csv('../twitch/FR/musae_FR_edges.csv')\n",
        "#df = pd.read_csv('../twitch/PTBR/musae_PTBR_edges.csv')\n",
        "#df = pd.read_csv('../twitch/RU/musae_RU_edges.csv')\n",
        "df = pd.read_csv('../twitch_gamers/large_twitch_edges.csv')\n",
        "\n",
        "nodes = []\n",
        "edges = []\n",
        "for x, y in zip(df['from'], df['to']):\n",
        "    nodes.append(x)\n",
        "    nodes.append(y)\n",
        "    temp_tup = (x, y)\n",
        "    edges.append(temp_tup)\n",
        "nodes = list(set(nodes))\n",
        "print(len(nodes))\n",
        "print(len(nodes))"
      ]
    },
    {
      "cell_type": "code",
      "execution_count": 85,
      "metadata": {},
      "outputs": [],
      "source": [
        "# small_edges = []\n",
        "# print(edges[1])\n",
        "# for i in edges:\n",
        "#     if i[0] < node_size and i[1] < node_size:\n",
        "#         small_edges.append(i)"
      ]
    },
    {
      "cell_type": "code",
      "execution_count": 86,
      "metadata": {},
      "outputs": [],
      "source": [
        "#print(small_edges)"
      ]
    },
    {
      "cell_type": "code",
      "execution_count": 87,
      "metadata": {},
      "outputs": [],
      "source": [
        "f = open(\".net\", \"w\")\n",
        "f.write(f\"*Vertices {len(nodes)}\\n\")\n",
        "\n",
        "for i in range(0,len(nodes)):\n",
        "    f.write(f' {i} \"v{i}\"\\n')\n",
        "\n",
        "f.write(f\"*Arcs\\n\")\n",
        "\n",
        "for i in edges:\n",
        "    f.write(f\" {i[0]} {i[1]} 1.000000000000000\\n\")\n",
        "\n",
        "f.close()"
      ]
    },
    {
      "cell_type": "code",
      "execution_count": 41,
      "metadata": {},
      "outputs": [],
      "source": [
        "# #from # to\n",
        "\n",
        "# import csv\n",
        "# header = ['from', 'to']\n",
        "# with open('edges_3563.csv', 'w', encoding='UTF8', newline='') as f:\n",
        "#     writer = csv.writer(f)\n",
        "#     writer.writerow(header)\n",
        "#     #for i in range(0, node_size):\n",
        "#     writer.writerows(small_edges)"
      ]
    },
    {
      "cell_type": "code",
      "execution_count": null,
      "metadata": {},
      "outputs": [],
      "source": []
    }
  ],
  "metadata": {
    "colab": {
      "collapsed_sections": [],
      "machine_shape": "hm",
      "provenance": []
    },
    "kernelspec": {
      "display_name": "Python 3.8.13 ('gtproject')",
      "language": "python",
      "name": "python3"
    },
    "language_info": {
      "codemirror_mode": {
        "name": "ipython",
        "version": 3
      },
      "file_extension": ".py",
      "mimetype": "text/x-python",
      "name": "python",
      "nbconvert_exporter": "python",
      "pygments_lexer": "ipython3",
      "version": "3.8.13"
    },
    "vscode": {
      "interpreter": {
        "hash": "cfdb2c648d1118f564f7910aba825bd4611bb44bf389d1b96312e5e1fdc5f9eb"
      }
    }
  },
  "nbformat": 4,
  "nbformat_minor": 0
}
